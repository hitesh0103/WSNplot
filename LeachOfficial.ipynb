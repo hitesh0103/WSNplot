{
  "nbformat": 4,
  "nbformat_minor": 0,
  "metadata": {
    "colab": {
      "name": "LeachOfficial.ipynb",
      "provenance": [],
      "collapsed_sections": []
    },
    "kernelspec": {
      "name": "python3",
      "display_name": "Python 3"
    },
    "language_info": {
      "name": "python"
    }
  },
  "cells": [
    {
      "cell_type": "code",
      "metadata": {
        "id": "xUkH84gP2wCc"
      },
      "source": [
        "## Importing libraries  \n",
        "import numpy as np\n",
        "from math import *\n",
        "import matplotlib.pyplot as plt\n",
        "from sys import*"
      ],
      "execution_count": null,
      "outputs": []
    },
    {
      "cell_type": "code",
      "metadata": {
        "colab": {
          "base_uri": "https://localhost:8080/"
        },
        "id": "62N7tAAT3Buw",
        "outputId": "6ac4bff0-edae-4162-c75a-374167e1b722"
      },
      "source": [
        "## Creating lists\n",
        "dx = []         ## For storing x coordinates of nodes\n",
        "dy = []         ## for storing y coordinates of nodes\n",
        "df = []\n",
        "fx = []\n",
        "fy = []\n",
        "hl = []\n",
        "cn = []\n",
        "s1 = []\n",
        "lk = []\n",
        "distance2 = []\n",
        "e = 0.25\n",
        "etx = float(format(50*(pow(10,-9)),'.200g'))\n",
        "erx = float(format((50*(pow(10,-9))),'.200g'))\n",
        "efs = float(format((100*(pow(10,-12))),'.200g'))\n",
        "print(etx)\n",
        "print(efs)\n",
        "print(erx)\n",
        "distance = []"
      ],
      "execution_count": null,
      "outputs": [
        {
          "output_type": "stream",
          "text": [
            "5.0000000000000004e-08\n",
            "1e-10\n",
            "5.0000000000000004e-08\n"
          ],
          "name": "stdout"
        }
      ]
    },
    {
      "cell_type": "code",
      "metadata": {
        "id": "buAWPC2P33uR"
      },
      "source": [
        "## creating 100 random numbers and putting them in data frame df\n",
        "for i in range(100):  \n",
        "    m =  [np.random.randint(100), np.random.randint(100)]                           \n",
        "    df.append(m)"
      ],
      "execution_count": null,
      "outputs": []
    },
    {
      "cell_type": "code",
      "metadata": {
        "colab": {
          "base_uri": "https://localhost:8080/"
        },
        "id": "4bKrp7ls378k",
        "outputId": "c25d5b27-79bb-4924-96ac-1fe2a3a4e6cc"
      },
      "source": [
        "df"
      ],
      "execution_count": null,
      "outputs": [
        {
          "output_type": "execute_result",
          "data": {
            "text/plain": [
              "[[83, 37],\n",
              " [63, 89],\n",
              " [64, 68],\n",
              " [36, 87],\n",
              " [55, 63],\n",
              " [20, 4],\n",
              " [86, 94],\n",
              " [67, 25],\n",
              " [39, 15],\n",
              " [32, 44],\n",
              " [34, 75],\n",
              " [34, 72],\n",
              " [4, 1],\n",
              " [68, 51],\n",
              " [57, 38],\n",
              " [50, 46],\n",
              " [67, 59],\n",
              " [73, 86],\n",
              " [10, 34],\n",
              " [5, 88],\n",
              " [43, 51],\n",
              " [80, 51],\n",
              " [56, 1],\n",
              " [71, 56],\n",
              " [7, 70],\n",
              " [9, 92],\n",
              " [41, 51],\n",
              " [82, 81],\n",
              " [33, 57],\n",
              " [35, 29],\n",
              " [99, 39],\n",
              " [87, 47],\n",
              " [99, 33],\n",
              " [34, 91],\n",
              " [95, 67],\n",
              " [84, 46],\n",
              " [6, 53],\n",
              " [65, 92],\n",
              " [48, 10],\n",
              " [58, 13],\n",
              " [40, 15],\n",
              " [70, 84],\n",
              " [59, 25],\n",
              " [23, 41],\n",
              " [72, 0],\n",
              " [84, 58],\n",
              " [27, 8],\n",
              " [68, 44],\n",
              " [58, 87],\n",
              " [20, 67],\n",
              " [81, 67],\n",
              " [60, 46],\n",
              " [54, 68],\n",
              " [40, 23],\n",
              " [12, 42],\n",
              " [21, 60],\n",
              " [78, 61],\n",
              " [33, 4],\n",
              " [22, 22],\n",
              " [32, 1],\n",
              " [87, 96],\n",
              " [36, 22],\n",
              " [79, 59],\n",
              " [0, 18],\n",
              " [59, 91],\n",
              " [90, 38],\n",
              " [12, 45],\n",
              " [59, 83],\n",
              " [86, 10],\n",
              " [56, 64],\n",
              " [6, 83],\n",
              " [51, 4],\n",
              " [82, 5],\n",
              " [84, 57],\n",
              " [17, 61],\n",
              " [14, 24],\n",
              " [35, 75],\n",
              " [42, 0],\n",
              " [75, 10],\n",
              " [35, 46],\n",
              " [40, 72],\n",
              " [21, 5],\n",
              " [11, 67],\n",
              " [84, 15],\n",
              " [8, 7],\n",
              " [52, 7],\n",
              " [78, 37],\n",
              " [10, 98],\n",
              " [64, 60],\n",
              " [64, 5],\n",
              " [24, 86],\n",
              " [91, 61],\n",
              " [67, 1],\n",
              " [86, 82],\n",
              " [76, 24],\n",
              " [58, 54],\n",
              " [16, 3],\n",
              " [36, 98],\n",
              " [76, 12],\n",
              " [67, 10]]"
            ]
          },
          "metadata": {
            "tags": []
          },
          "execution_count": 42
        }
      ]
    },
    {
      "cell_type": "code",
      "metadata": {
        "id": "HE-n-6QH4Dld"
      },
      "source": [
        "## Taking x coordinate and y coordinate of dataframe df\n",
        "for j in df:\n",
        "    dx.append(j[0])                                                                    \n",
        "    dy.append(j[1])                                                             "
      ],
      "execution_count": null,
      "outputs": []
    },
    {
      "cell_type": "code",
      "metadata": {
        "colab": {
          "base_uri": "https://localhost:8080/"
        },
        "id": "sywIIPp-4LEs",
        "outputId": "777b6d93-207c-4f54-d812-1488c12bd2bb"
      },
      "source": [
        "dx"
      ],
      "execution_count": null,
      "outputs": [
        {
          "output_type": "execute_result",
          "data": {
            "text/plain": [
              "[83,\n",
              " 63,\n",
              " 64,\n",
              " 36,\n",
              " 55,\n",
              " 20,\n",
              " 86,\n",
              " 67,\n",
              " 39,\n",
              " 32,\n",
              " 34,\n",
              " 34,\n",
              " 4,\n",
              " 68,\n",
              " 57,\n",
              " 50,\n",
              " 67,\n",
              " 73,\n",
              " 10,\n",
              " 5,\n",
              " 43,\n",
              " 80,\n",
              " 56,\n",
              " 71,\n",
              " 7,\n",
              " 9,\n",
              " 41,\n",
              " 82,\n",
              " 33,\n",
              " 35,\n",
              " 99,\n",
              " 87,\n",
              " 99,\n",
              " 34,\n",
              " 95,\n",
              " 84,\n",
              " 6,\n",
              " 65,\n",
              " 48,\n",
              " 58,\n",
              " 40,\n",
              " 70,\n",
              " 59,\n",
              " 23,\n",
              " 72,\n",
              " 84,\n",
              " 27,\n",
              " 68,\n",
              " 58,\n",
              " 20,\n",
              " 81,\n",
              " 60,\n",
              " 54,\n",
              " 40,\n",
              " 12,\n",
              " 21,\n",
              " 78,\n",
              " 33,\n",
              " 22,\n",
              " 32,\n",
              " 87,\n",
              " 36,\n",
              " 79,\n",
              " 0,\n",
              " 59,\n",
              " 90,\n",
              " 12,\n",
              " 59,\n",
              " 86,\n",
              " 56,\n",
              " 6,\n",
              " 51,\n",
              " 82,\n",
              " 84,\n",
              " 17,\n",
              " 14,\n",
              " 35,\n",
              " 42,\n",
              " 75,\n",
              " 35,\n",
              " 40,\n",
              " 21,\n",
              " 11,\n",
              " 84,\n",
              " 8,\n",
              " 52,\n",
              " 78,\n",
              " 10,\n",
              " 64,\n",
              " 64,\n",
              " 24,\n",
              " 91,\n",
              " 67,\n",
              " 86,\n",
              " 76,\n",
              " 58,\n",
              " 16,\n",
              " 36,\n",
              " 76,\n",
              " 67]"
            ]
          },
          "metadata": {
            "tags": []
          },
          "execution_count": 44
        }
      ]
    },
    {
      "cell_type": "code",
      "metadata": {
        "colab": {
          "base_uri": "https://localhost:8080/"
        },
        "id": "YAPkyoB04Q3f",
        "outputId": "a3ee4df9-988f-4c18-abc0-075628d30113"
      },
      "source": [
        "dy"
      ],
      "execution_count": null,
      "outputs": [
        {
          "output_type": "execute_result",
          "data": {
            "text/plain": [
              "[37,\n",
              " 89,\n",
              " 68,\n",
              " 87,\n",
              " 63,\n",
              " 4,\n",
              " 94,\n",
              " 25,\n",
              " 15,\n",
              " 44,\n",
              " 75,\n",
              " 72,\n",
              " 1,\n",
              " 51,\n",
              " 38,\n",
              " 46,\n",
              " 59,\n",
              " 86,\n",
              " 34,\n",
              " 88,\n",
              " 51,\n",
              " 51,\n",
              " 1,\n",
              " 56,\n",
              " 70,\n",
              " 92,\n",
              " 51,\n",
              " 81,\n",
              " 57,\n",
              " 29,\n",
              " 39,\n",
              " 47,\n",
              " 33,\n",
              " 91,\n",
              " 67,\n",
              " 46,\n",
              " 53,\n",
              " 92,\n",
              " 10,\n",
              " 13,\n",
              " 15,\n",
              " 84,\n",
              " 25,\n",
              " 41,\n",
              " 0,\n",
              " 58,\n",
              " 8,\n",
              " 44,\n",
              " 87,\n",
              " 67,\n",
              " 67,\n",
              " 46,\n",
              " 68,\n",
              " 23,\n",
              " 42,\n",
              " 60,\n",
              " 61,\n",
              " 4,\n",
              " 22,\n",
              " 1,\n",
              " 96,\n",
              " 22,\n",
              " 59,\n",
              " 18,\n",
              " 91,\n",
              " 38,\n",
              " 45,\n",
              " 83,\n",
              " 10,\n",
              " 64,\n",
              " 83,\n",
              " 4,\n",
              " 5,\n",
              " 57,\n",
              " 61,\n",
              " 24,\n",
              " 75,\n",
              " 0,\n",
              " 10,\n",
              " 46,\n",
              " 72,\n",
              " 5,\n",
              " 67,\n",
              " 15,\n",
              " 7,\n",
              " 7,\n",
              " 37,\n",
              " 98,\n",
              " 60,\n",
              " 5,\n",
              " 86,\n",
              " 61,\n",
              " 1,\n",
              " 82,\n",
              " 24,\n",
              " 54,\n",
              " 3,\n",
              " 98,\n",
              " 12,\n",
              " 10]"
            ]
          },
          "metadata": {
            "tags": []
          },
          "execution_count": 45
        }
      ]
    },
    {
      "cell_type": "code",
      "metadata": {
        "colab": {
          "base_uri": "https://localhost:8080/",
          "height": 329
        },
        "id": "QHVQfrvg2v_L",
        "outputId": "efc0b236-7238-4130-a86c-ca3e286902dd"
      },
      "source": [
        "## Creating 100 Randomly placed nodes\n",
        "### x coordinate of base station\n",
        "x = 100   \n",
        "### y coordinate of base station\n",
        "y = 100   \n",
        "plt.title(\"Figure 1\", color = 'red')\n",
        "plt.xlabel('X- Axis', color = 'blue')\n",
        "plt.ylabel(\"Y- Axis\", color = 'blue')\n",
        "plt.plot(100,100,'x',markersize=9,markeredgecolor = 'Black')\n",
        "plt.plot(x,y,dx,dy,'o',markersize=8,markerfacecolor='white',markeredgecolor = 'Blue')\n",
        "## May be 100 nodes"
      ],
      "execution_count": null,
      "outputs": [
        {
          "output_type": "execute_result",
          "data": {
            "text/plain": [
              "[<matplotlib.lines.Line2D at 0x7faaf12f6450>,\n",
              " <matplotlib.lines.Line2D at 0x7faaf12f6650>]"
            ]
          },
          "metadata": {
            "tags": []
          },
          "execution_count": 46
        },
        {
          "output_type": "display_data",
          "data": {
            "image/png": "[encoded data removed]",
            "text/plain": [
              "<Figure size 432x288 with 1 Axes>"
            ]
          },
          "metadata": {
            "tags": [],
            "needs_background": "light"
          }
        }
      ]
    },
    {
      "cell_type": "code",
      "metadata": {
        "id": "FIZg3ODO2v7c"
      },
      "source": [
        "p = 0.10\n",
        "count = 0"
      ],
      "execution_count": null,
      "outputs": []
    },
    {
      "cell_type": "code",
      "metadata": {
        "id": "xWtDYbxZ2v4E"
      },
      "source": [
        "## step 2\n",
        "for i in range(100):\n",
        "    rt1 = float(0.10)\n",
        "    s1.append(rt1)"
      ],
      "execution_count": null,
      "outputs": []
    },
    {
      "cell_type": "code",
      "metadata": {
        "colab": {
          "base_uri": "https://localhost:8080/"
        },
        "id": "YHYeUiHf2vzQ",
        "outputId": "7269674f-fb5a-499b-be45-960baea4e201"
      },
      "source": [
        "s1 ## 10 percentage of cluster heads selected"
      ],
      "execution_count": null,
      "outputs": [
        {
          "output_type": "execute_result",
          "data": {
            "text/plain": [
              "[0.1,\n",
              " 0.1,\n",
              " 0.1,\n",
              " 0.1,\n",
              " 0.1,\n",
              " 0.1,\n",
              " 0.1,\n",
              " 0.1,\n",
              " 0.1,\n",
              " 0.1,\n",
              " 0.1,\n",
              " 0.1,\n",
              " 0.1,\n",
              " 0.1,\n",
              " 0.1,\n",
              " 0.1,\n",
              " 0.1,\n",
              " 0.1,\n",
              " 0.1,\n",
              " 0.1,\n",
              " 0.1,\n",
              " 0.1,\n",
              " 0.1,\n",
              " 0.1,\n",
              " 0.1,\n",
              " 0.1,\n",
              " 0.1,\n",
              " 0.1,\n",
              " 0.1,\n",
              " 0.1,\n",
              " 0.1,\n",
              " 0.1,\n",
              " 0.1,\n",
              " 0.1,\n",
              " 0.1,\n",
              " 0.1,\n",
              " 0.1,\n",
              " 0.1,\n",
              " 0.1,\n",
              " 0.1,\n",
              " 0.1,\n",
              " 0.1,\n",
              " 0.1,\n",
              " 0.1,\n",
              " 0.1,\n",
              " 0.1,\n",
              " 0.1,\n",
              " 0.1,\n",
              " 0.1,\n",
              " 0.1,\n",
              " 0.1,\n",
              " 0.1,\n",
              " 0.1,\n",
              " 0.1,\n",
              " 0.1,\n",
              " 0.1,\n",
              " 0.1,\n",
              " 0.1,\n",
              " 0.1,\n",
              " 0.1,\n",
              " 0.1,\n",
              " 0.1,\n",
              " 0.1,\n",
              " 0.1,\n",
              " 0.1,\n",
              " 0.1,\n",
              " 0.1,\n",
              " 0.1,\n",
              " 0.1,\n",
              " 0.1,\n",
              " 0.1,\n",
              " 0.1,\n",
              " 0.1,\n",
              " 0.1,\n",
              " 0.1,\n",
              " 0.1,\n",
              " 0.1,\n",
              " 0.1,\n",
              " 0.1,\n",
              " 0.1,\n",
              " 0.1,\n",
              " 0.1,\n",
              " 0.1,\n",
              " 0.1,\n",
              " 0.1,\n",
              " 0.1,\n",
              " 0.1,\n",
              " 0.1,\n",
              " 0.1,\n",
              " 0.1,\n",
              " 0.1,\n",
              " 0.1,\n",
              " 0.1,\n",
              " 0.1,\n",
              " 0.1,\n",
              " 0.1,\n",
              " 0.1,\n",
              " 0.1,\n",
              " 0.1,\n",
              " 0.1]"
            ]
          },
          "metadata": {
            "tags": []
          },
          "execution_count": 49
        }
      ]
    },
    {
      "cell_type": "code",
      "metadata": {
        "id": "9K3TsIaq2vmS"
      },
      "source": [
        "def points(n):\n",
        "    dead=0\n",
        "    ## STep 1\n",
        "    for r in range(500):\n",
        "        for kl in range(100):\n",
        "            ##If node is not dead\n",
        "            if kl not in lk:\n",
        "                ## If probability of selecting a cluster head is less than equal to 0  it will not be selected again as CH Step 5\n",
        "                ## Step 5\n",
        "                if s1[kl]<=0:\n",
        "                    lk.append(kl)\n",
        "                    dead = dead+1\n",
        "                    print(\"DEAD=>\",dead)\n",
        "                    plt.plot(dx[kl],dy[kl],'o',color = 'red') \n",
        "                    if dead == 1:\n",
        "                        print(\"FND:- First Node Die Is At=>{}\".format(r))\n",
        "                    elif dead == 0.50*100:\n",
        "                        print(\"HNA:- Half Node Alive Is At=>{}\".format(r))\n",
        "                    elif dead == 0.99*100:\n",
        "                        print(\"LNA:- Last Node Alive Is At=>{}\".format(r))\n",
        "                    elif dead == 100:\n",
        "                        print(\"ALL Dead At=>{}\".format(r))\n",
        "                        exit()\n",
        "            ## If probability of alive node is greater than zero\n",
        "            if s1[kl]>0:\n",
        "                ## Selecting a cluster head\n",
        "                ## Step 2\n",
        "                temp_rand = np.random.randint(100)                          \n",
        "                ## If temp_rand is less than the formula changing the propability of a node to be selected as CH\n",
        "                if(temp_rand <=  (p//(1-(p*(r%(round(1/p))))))):  \n",
        "                    #if s1[kl]>0:\n",
        "                        ## index of cluster head\n",
        "                        hl.append(kl)\n",
        "                        s = (sqrt((pow((dx[kl]-x),2))+(pow((dy[kl]-y),2))))\n",
        "                        distance.append(s)\n",
        "                        ## Transmission of information from CH to Base station\n",
        "                        ## Step 4\n",
        "                        s1[kl] = s1[kl]-(((etx*2000) + (((efs*2000)*(pow(s,2))))))\n",
        "                        s = 0\n",
        "        for i2 in range(100):\n",
        "            if s1[i2]>0:\n",
        "                ##If node is dead\n",
        "                if i2 not in hl:\n",
        "                    for i1 in hl:\n",
        "                        ## Distance between alive node and cluster head\n",
        "                        s2 = (sqrt((pow((dx[i2]-dx[i1]),2))+(pow((dy[i2]-dy[i1]),2))))\n",
        "                        distance2.append(s2)\n",
        "                        s2 = 0\n",
        "                    if distance2!=[]:\n",
        "                        ## transmission of information from non-CH to CH\n",
        "                        ## Step 3\n",
        "                        s1[i2] = s1[i2] -(((etx*2000) + (((efs*2000)*(pow((min(distance2)),2))))))\n",
        "                        for i3 in range(len(hl)):\n",
        "                            if min(distance2)==distance2[i3]:\n",
        "                                s1[hl[i3]] = s1[hl[i3]]-(erx*2000)\n",
        "                        del distance2[:]\n",
        "        ## empying the hl list to store index of cluster head in the next round\n",
        "        yield hl\n",
        "        del hl[:]"
      ],
      "execution_count": null,
      "outputs": []
    },
    {
      "cell_type": "code",
      "metadata": {
        "id": "9bxvmfdMhNui"
      },
      "source": [
        "count1 = 0"
      ],
      "execution_count": null,
      "outputs": []
    },
    {
      "cell_type": "code",
      "metadata": {
        "colab": {
          "base_uri": "https://localhost:8080/",
          "height": 1000
        },
        "id": "uJIDmCPDYNGZ",
        "outputId": "882bb65b-6721-4987-e8fa-6ae5e9a8830b"
      },
      "source": [
        "for i in points(100):\n",
        "    if i!=[]:\n",
        "        print(i)"
      ],
      "execution_count": null,
      "outputs": [
        {
          "output_type": "stream",
          "text": [
            "[39]\n",
            "[8, 79, 83]\n",
            "[6, 31]\n",
            "[2, 14, 93]\n",
            "[62]\n",
            "[63, 91]\n",
            "[69]\n",
            "[67]\n",
            "[8]\n",
            "[14, 80]\n",
            "[98]\n",
            "[71]\n",
            "[20]\n",
            "[79]\n",
            "[71, 96]\n",
            "[51]\n",
            "[74]\n",
            "[20, 93]\n",
            "[19, 44]\n",
            "[11, 97]\n",
            "[10]\n",
            "[2, 41]\n",
            "[9]\n",
            "[28]\n",
            "[29, 70]\n",
            "[46]\n",
            "[89]\n",
            "[13, 40, 66]\n",
            "[50]\n",
            "[35]\n",
            "[9, 17]\n",
            "[20, 74]\n",
            "[42, 65]\n",
            "[1, 45, 47, 79]\n",
            "[82]\n",
            "[44]\n",
            "[41]\n",
            "[5]\n",
            "[46, 55, 81]\n",
            "[38, 49]\n",
            "[10]\n",
            "[0]\n",
            "[89]\n",
            "[25, 37, 60, 86]\n",
            "[19, 70]\n",
            "[5]\n",
            "[20]\n",
            "[24]\n",
            "[78]\n",
            "[6, 54]\n",
            "[12, 40]\n",
            "[20]\n",
            "[51]\n",
            "[55, 86, 91]\n",
            "[77, 87]\n",
            "[27]\n",
            "[87]\n",
            "[72]\n",
            "[39]\n",
            "[35]\n",
            "[50]\n",
            "[96]\n",
            "[77]\n",
            "[82, 89, 90]\n",
            "[19, 53]\n",
            "[12, 99]\n",
            "[3, 58, 91]\n",
            "[60]\n",
            "[90]\n",
            "[7]\n",
            "[24, 54]\n",
            "[87]\n",
            "DEAD=> 1\n",
            "FND:- First Node Die Is At=>103\n",
            "[36]\n",
            "[19]\n",
            "[53]\n",
            "[34, 51]\n",
            "[1, 40, 64]\n",
            "[89]\n",
            "[46, 63]\n",
            "DEAD=> 2\n",
            "[36]\n",
            "[39, 43]\n",
            "DEAD=> 3\n",
            "[70]\n",
            "[12, 29, 37]\n",
            "[15]\n",
            "[27, 95]\n",
            "DEAD=> 4\n",
            "[72]\n",
            "[20]\n",
            "DEAD=> 5\n",
            "[27]\n",
            "DEAD=> 6\n",
            "[21]\n",
            "[43, 93]\n",
            "[15]\n",
            "[65]\n",
            "[82]\n",
            "DEAD=> 7\n",
            "DEAD=> 8\n",
            "[39, 46]\n",
            "[16]\n",
            "[29, 30, 43, 63, 94]\n",
            "[53, 86, 92]\n",
            "[36, 85]\n",
            "[84, 86]\n",
            "DEAD=> 9\n",
            "[43]\n",
            "DEAD=> 10\n",
            "[38, 61]\n",
            "DEAD=> 11\n",
            "[28]\n",
            "DEAD=> 12\n",
            "[16, 96]\n",
            "DEAD=> 13\n",
            "[65]\n",
            "[92]\n",
            "DEAD=> 14\n",
            "[14, 46]\n",
            "DEAD=> 15\n",
            "DEAD=> 16\n",
            "[22]\n",
            "[69]\n",
            "[61, 75]\n",
            "DEAD=> 17\n",
            "[38, 39, 73]\n",
            "DEAD=> 18\n",
            "[41]\n",
            "DEAD=> 19\n",
            "DEAD=> 20\n",
            "[8, 48, 51]\n",
            "[38, 85]\n",
            "DEAD=> 21\n",
            "DEAD=> 22\n",
            "DEAD=> 23\n",
            "[17]\n",
            "DEAD=> 24\n",
            "[49]\n",
            "[48, 53]\n",
            "[38]\n",
            "[80]\n",
            "DEAD=> 25\n",
            "[0]\n",
            "DEAD=> 26\n",
            "[50]\n",
            "DEAD=> 27\n",
            "DEAD=> 28\n",
            "DEAD=> 29\n",
            "[8]\n",
            "[23, 81]\n",
            "DEAD=> 30\n",
            "DEAD=> 31\n",
            "[79]\n",
            "[99]\n",
            "[7]\n",
            "[71]\n",
            "DEAD=> 32\n",
            "DEAD=> 33\n",
            "DEAD=> 34\n",
            "DEAD=> 35\n",
            "[15]\n",
            "[62]\n",
            "DEAD=> 36\n",
            "[26]\n",
            "DEAD=> 37\n",
            "DEAD=> 38\n",
            "[2]\n",
            "[45, 75]\n",
            "[61]\n",
            "DEAD=> 39\n",
            "[9, 83]\n",
            "DEAD=> 40\n",
            "DEAD=> 41\n",
            "DEAD=> 42\n",
            "[14, 43]\n",
            "[54, 59]\n",
            "[53, 59, 99]\n",
            "[76]\n",
            "[51, 79]\n",
            "[8]\n",
            "DEAD=> 43\n",
            "DEAD=> 44\n",
            "[66]\n",
            "DEAD=> 45\n",
            "DEAD=> 46\n",
            "DEAD=> 47\n",
            "[10, 54]\n",
            "DEAD=> 48\n",
            "DEAD=> 49\n",
            "DEAD=> 50\n",
            "HNA:- Half Node Alive Is At=>234\n",
            "[21, 57]\n",
            "[43]\n",
            "DEAD=> 51\n",
            "[69]\n",
            "DEAD=> 52\n",
            "DEAD=> 53\n",
            "DEAD=> 54\n",
            "[18]\n",
            "DEAD=> 55\n",
            "DEAD=> 56\n",
            "[15, 31, 69]\n",
            "[57, 73]\n",
            "[61]\n",
            "[47]\n",
            "[31]\n",
            "DEAD=> 57\n",
            "DEAD=> 58\n",
            "[40]\n",
            "[66]\n",
            "DEAD=> 59\n",
            "[79]\n",
            "[61]\n",
            "DEAD=> 60\n",
            "[61]\n",
            "DEAD=> 61\n",
            "DEAD=> 62\n",
            "DEAD=> 63\n",
            "[88]\n",
            "DEAD=> 64\n",
            "[16, 58]\n",
            "[95]\n",
            "[45]\n",
            "DEAD=> 65\n",
            "DEAD=> 66\n",
            "[16]\n",
            "DEAD=> 67\n",
            "[51]\n",
            "[88, 95]\n",
            "[42]\n",
            "DEAD=> 68\n",
            "[18]\n",
            "DEAD=> 69\n",
            "DEAD=> 70\n",
            "DEAD=> 71\n",
            "DEAD=> 72\n",
            "[4, 88]\n",
            "[16]\n",
            "DEAD=> 73\n",
            "[26]\n",
            "[26, 47]\n",
            "DEAD=> 74\n",
            "[94]\n",
            "[95]\n",
            "[56]\n",
            "[4]\n",
            "[23]\n",
            "[55]\n",
            "DEAD=> 75\n",
            "[21]\n",
            "DEAD=> 76\n",
            "[7]\n",
            "DEAD=> 77\n",
            "[94]\n",
            "DEAD=> 78\n",
            "[88]\n",
            "DEAD=> 79\n",
            "[95]\n",
            "[13]\n",
            "DEAD=> 80\n",
            "[95]\n",
            "DEAD=> 81\n",
            "[7]\n",
            "DEAD=> 82\n",
            "[26]\n",
            "[56]\n",
            "DEAD=> 83\n",
            "[15]\n",
            "DEAD=> 84\n",
            "[56]\n",
            "DEAD=> 85\n",
            "[29]\n",
            "[13]\n",
            "[15]\n",
            "DEAD=> 86\n",
            "[14]\n",
            "[26]\n",
            "[4]\n",
            "[29]\n",
            "[42, 95]\n",
            "[9]\n",
            "[29]\n",
            "DEAD=> 87\n",
            "[88]\n",
            "[15]\n",
            "[28]\n",
            "DEAD=> 88\n",
            "DEAD=> 89\n",
            "[47]\n",
            "[14]\n",
            "[42]\n",
            "[13]\n",
            "[9]\n"
          ],
          "name": "stdout"
        },
        {
          "output_type": "display_data",
          "data": {
            "image/png": "[encoded data removed]",
            "text/plain": [
              "<Figure size 432x288 with 1 Axes>"
            ]
          },
          "metadata": {
            "tags": [],
            "needs_background": "light"
          }
        }
      ]
    },
    {
      "cell_type": "code",
      "metadata": {
        "id": "Ceo4-4bSdt_g"
      },
      "source": [
        "## I will ask this to SHivank Sir\n",
        "for i in points(1):\n",
        "    if i!=[]:\n",
        "        print(i)"
      ],
      "execution_count": null,
      "outputs": []
    },
    {
      "cell_type": "code",
      "metadata": {
        "id": "ISNUNRVMeQaO"
      },
      "source": [
        "\n",
        "for i in points(100):\n",
        "    if i!=[]:\n",
        "        print(i)\n",
        "\n",
        "    for j in i:\n",
        "            if j!=[]:\n",
        "                count1 = count1+1\n",
        "                count = count +1\n",
        "                plt.plot(dx[j],dy[j],'o',markersize=4,color = 'black')"
      ],
      "execution_count": null,
      "outputs": []
    },
    {
      "cell_type": "code",
      "metadata": {
        "id": "3bT-8-td54U_",
        "colab": {
          "base_uri": "https://localhost:8080/"
        },
        "outputId": "e1e47096-920e-4f1b-e06b-89ff59c9a9db"
      },
      "source": [
        "\n",
        "for i in points(100):\n",
        "    if i!=[]:\n",
        "        print(i)\n",
        "\n",
        "    for j in i:\n",
        "            if j!=[]:\n",
        "                count1 = count1+1\n",
        "                count = count +1\n",
        "                plt.plot(dx[j],dy[j],'o',markersize=4,color = 'black')\n",
        "    plt.pause(0.3)\n",
        "    if count1!=0:\n",
        "        cn.append(count1)\n",
        "        count1 = 0\n",
        "\n",
        "    for j in i:\n",
        "            if j!=[]:\n",
        "                plt.plot(dx[j],dy[j],'o',markersize=4,color = 'blue')\n",
        "print(s1)\n",
        "print(count)\n",
        "plt.show()"
      ],
      "execution_count": null,
      "outputs": [
        {
          "output_type": "stream",
          "text": [
            "[-0.00016840000000024208, -0.0006446000000001495, -0.00017780000000030681, -0.00041440000000003674, -0.0007721999999999972, -0.00011940000000061168, -0.0010614000000001443, -0.0014736000000002947, -0.00199580000000034, -0.0025284000000003956, -0.003160400000000617, -4.920000000021245e-05, -0.00039680000000001257, -0.0006950000000000943, -8.26000000005667e-05, -0.0001340000000005292, -5.400000000034849e-05, -0.00039620000000005343, -0.004968199999999964, -0.0005356000000000471, -0.000516600000001212, -0.0013448000000002489, -0.00033699999999995257, -0.0001464000000001984, -0.0011312000000003326, -0.0007930000000000688, -0.0009496000000002417, -0.0001586000000002413, -0.0008120000000004727, -0.0009262000000004199, -3.079999999997679e-05, -0.000999400000000272, -8.919999999995945e-05, -0.0001177999999999879, -1.4000000000088757e-05, -0.0008642000000005449, -0.0007176000000003115, -0.00019040000000005342, -0.00034340000000016897, -0.00032540000000048106, -0.00048120000000055076, -2.6200000000326873e-05, -0.00039340000000026435, -0.0026742000000004296, -0.00010100000000038919, -0.0014219999999999817, -0.004045400000000321, -0.00010560000000015885, -0.000690399999999886, -0.00036960000000006775, -0.0022972000000005917, -0.0003734000000007764, -3.500000000004953e-05, -0.0004616000000005631, -0.003548600000000407, -0.003984400000000261, -3.339999999998883e-05, -0.00036559999999994286, -0.00017620000000009796, -0.0008661999999999813, -0.0006231999999999638, -0.0056290000000002805, -0.000666200000000201, -6.880000000008212e-05, -0.00020140000000006702, -0.000117600000000035, -0.0002674000000000157, -0.0006844000000002484, -1.539999999996908e-05, -7.400000000052452e-05, -1.720000000030161e-05, -0.0037994000000004945, -0.001017800000000241, -0.0007152000000000585, -0.00046620000000032206, -0.00034459999999997704, -0.0005950000000000281, -0.00030800000000055956, -0.0002750000000002913, -0.0001356000000004998, -0.00011680000000015235, -0.00033000000000003166, -0.00036600000000020297, -0.0012938000000001241, -0.0005274000000000307, -4.280000000014074e-05, -0.00040760000000037767, -0.005156000000000139, -0.0005873999999999254, -0.0011622000000006615, -0.0009108000000003968, -0.0004490000000003261, -0.00014599999999993153, -0.00038740000000004856, -2.4399999999990944e-05, -0.0013484000000002151, -0.004568000000000293, -0.0002794000000000659, -0.0004008000000002281, -0.00012640000000011865]\n",
            "0\n"
          ],
          "name": "stdout"
        }
      ]
    },
    {
      "cell_type": "code",
      "metadata": {
        "id": "L8iPr7sX54Rb"
      },
      "source": [
        ""
      ],
      "execution_count": null,
      "outputs": []
    },
    {
      "cell_type": "code",
      "metadata": {
        "id": "sB9PLuyK54N8"
      },
      "source": [
        ""
      ],
      "execution_count": null,
      "outputs": []
    },
    {
      "cell_type": "code",
      "metadata": {
        "id": "KRMKMMmS54K3"
      },
      "source": [
        ""
      ],
      "execution_count": null,
      "outputs": []
    },
    {
      "cell_type": "code",
      "metadata": {
        "id": "ugAK8DfN54Hv"
      },
      "source": [
        ""
      ],
      "execution_count": null,
      "outputs": []
    },
    {
      "cell_type": "code",
      "metadata": {
        "id": "cWhO__Ia54EW"
      },
      "source": [
        ""
      ],
      "execution_count": null,
      "outputs": []
    },
    {
      "cell_type": "code",
      "metadata": {
        "id": "BBnDzqVH54A0"
      },
      "source": [
        ""
      ],
      "execution_count": null,
      "outputs": []
    }
  ]
}