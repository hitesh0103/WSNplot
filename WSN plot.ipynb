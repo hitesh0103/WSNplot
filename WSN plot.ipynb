{
 "cells": [
  {
   "cell_type": "code",
   "execution_count": 1,
   "metadata": {},
   "outputs": [],
   "source": [
    "import numpy as np\n",
    "import matplotlib as plt"
   ]
  },
  {
   "cell_type": "code",
   "execution_count": 2,
   "metadata": {},
   "outputs": [
    {
     "name": "stdout",
     "output_type": "stream",
     "text": [
      "Enter the number of sensors:- 4000\n",
      "Enter the threshold energy:- 2\n"
     ]
    }
   ],
   "source": [
    "number_of_sensors = float(input(\"Enter the number of sensors:- \"))\n",
    "##energy_of_ClusterHead = float(input(\"Enter the energy of cluster head:- \"))\n",
    "threshold_energy = float(input(\"Enter the threshold energy:- \"))"
   ]
  },
  {
   "cell_type": "code",
   "execution_count": 3,
   "metadata": {},
   "outputs": [],
   "source": [
    "##number of epochs\n",
    "r = x = np.arange(1,2001)"
   ]
  },
  {
   "cell_type": "code",
   "execution_count": 5,
   "metadata": {},
   "outputs": [
    {
     "ename": "IndentationError",
     "evalue": "expected an indented block (<ipython-input-5-57243f9e8e76>, line 16)",
     "output_type": "error",
     "traceback": [
      "\u001b[1;36m  File \u001b[1;32m\"<ipython-input-5-57243f9e8e76>\"\u001b[1;36m, line \u001b[1;32m16\u001b[0m\n\u001b[1;33m    if dE[i] > threshold_energy || dE[i] = threshold_energy:\u001b[0m\n\u001b[1;37m     ^\u001b[0m\n\u001b[1;31mIndentationError\u001b[0m\u001b[1;31m:\u001b[0m expected an indented block\n"
     ]
    }
   ],
   "source": [
    "alpha=0.9\n",
    "dk=[]\n",
    "dE=[]\n",
    "dA=[]   ## number of nodes alive\n",
    "dE.append(Energy)\n",
    "for j in range(100):\n",
    "    \n",
    "    \n",
    "    if i > 1000:\n",
    "        energy_of_ClusterHead=energy_of_ClusterHead*alpha\n",
    "        \n",
    "    Energy=(energy_of_ClusterHead)/(number_of_sensors - energy_of_ClusterHead * r)\n",
    "    k=0\n",
    "    \n",
    "    for i in range(20001):\n",
    "    if dE[i] > threshold_energy || dE[i] = threshold_energy:\n",
    "        k=k+1\n",
    "    dk.append(k)\n",
    "    \n",
    "    plt.plot(i, dk[j])\n"
   ]
  },
  {
   "cell_type": "code",
   "execution_count": null,
   "metadata": {},
   "outputs": [],
   "source": []
  },
  {
   "cell_type": "code",
   "execution_count": null,
   "metadata": {},
   "outputs": [],
   "source": []
  },
  {
   "cell_type": "code",
   "execution_count": null,
   "metadata": {},
   "outputs": [],
   "source": []
  },
  {
   "cell_type": "code",
   "execution_count": null,
   "metadata": {},
   "outputs": [],
   "source": []
  },
  {
   "cell_type": "code",
   "execution_count": null,
   "metadata": {},
   "outputs": [],
   "source": []
  },
  {
   "cell_type": "code",
   "execution_count": null,
   "metadata": {},
   "outputs": [],
   "source": []
  },
  {
   "cell_type": "code",
   "execution_count": null,
   "metadata": {},
   "outputs": [],
   "source": []
  }
 ],
 "metadata": {
  "kernelspec": {
   "display_name": "Python 3",
   "language": "python",
   "name": "python3"
  },
  "language_info": {
   "codemirror_mode": {
    "name": "ipython",
    "version": 3
   },
   "file_extension": ".py",
   "mimetype": "text/x-python",
   "name": "python",
   "nbconvert_exporter": "python",
   "pygments_lexer": "ipython3",
   "version": "3.7.4"
  }
 },
 "nbformat": 4,
 "nbformat_minor": 2
}
