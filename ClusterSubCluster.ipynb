{
  "nbformat": 4,
  "nbformat_minor": 0,
  "metadata": {
    "colab": {
      "name": "ClusterSubCluster.ipynb",
      "provenance": []
    },
    "kernelspec": {
      "name": "python3",
      "display_name": "Python 3"
    },
    "language_info": {
      "name": "python"
    }
  },
  "cells": [
    {
      "cell_type": "code",
      "metadata": {
        "id": "tJ99FqU4bOz4"
      },
      "source": [
        ""
      ],
      "execution_count": null,
      "outputs": []
    },
    {
      "cell_type": "markdown",
      "metadata": {
        "id": "ZZi7I4sWbShD"
      },
      "source": [
        "# Formation of clusters optimally that is nodes which are at the least distance from a randomly selected cluster head forms a cluster with that cluster head. \n",
        "\n",
        "# Selection of subcluster head, \n",
        "# Iteration over every cluster, picking up cluster one by one, inside a cluster choosing two farthest nodes, forming two list, among all those nodes which are at half distance from farthest node1 one subcluster head is selected\n",
        "## among all those nodes which are at half distance from farthest node 2 another sub cluster head is selected.\n",
        "## If there is no node within half distance of farthest node1 and farthest node2 information is sent directlt to Cluster head."
      ]
    },
    {
      "cell_type": "code",
      "metadata": {
        "id": "ajcQdY1ajm5A"
      },
      "source": [
        "### Importing libraries  \n",
        "import numpy as np\n",
        "from math import *\n",
        "import matplotlib.pyplot as plt\n",
        "from sys import*"
      ],
      "execution_count": null,
      "outputs": []
    },
    {
      "cell_type": "code",
      "metadata": {
        "id": "NQUOamMpsgEN"
      },
      "source": [
        "dA1=[]\n",
        "dA2=[]\n",
        "dch=[]\n",
        "a=[][]\n",
        "distance_nodes_cluster = []"
      ],
      "execution_count": null,
      "outputs": []
    },
    {
      "cell_type": "code",
      "metadata": {
        "id": "w92wdek6fgzA"
      },
      "source": [
        "## index of cluster head\n",
        "hl\n",
        "## index of nodes\n",
        "## start\n",
        "## Iterate over number of alive nodes\n",
        "## Step2\n",
        "for kl in range(100):\n",
        "  if s1[kl]>0:\n",
        "    ## Iterating over number of randomly chosen cluster heads.\n",
        "    ## step3\n",
        "    for q in (hl):\n",
        "      ## Calculate distance of alive node with every cluster head. store distance and index of cluster head in two dimensional array.\n",
        "      distance_alive_cluster = (sqrt((pow((dx[kl]-dx[q]),2))+(pow((dy[kl]-dy[q]),2))))\n",
        "      #q1 = [distance_alive_cluster, q]\n",
        "      dA1.append(distance_alive_cluster)\n",
        "      dA2.append(q)\n",
        "      ## Step 3 iteration stop\n",
        "    min_distance = np.min(dA1)\n",
        "    ## i_ch_n is the index of that cluster head which is at a minimum distance from node kl\n",
        "    i_ch_n = dA1.index(min_distance)\n",
        "    for i in hl:\n",
        "      if i = i_ch_n:\n",
        "        ## a[i] i is the index of the cluster head len(a[i]) is the number of nodes in that cluster head\n",
        "        for j in range(100):\n",
        "          a[i][j] = kl\n",
        "  \n",
        "# a[i][j] is a two dimensional array where i is the position of the cluster head and j for that specific contains all the nodes for ith CH\n",
        "## Step 4 is completed here Clusters are formed.                                                                     \n",
        "\n",
        "\n",
        "       \n",
        "\n",
        "       \n"
      ],
      "execution_count": null,
      "outputs": []
    },
    {
      "cell_type": "code",
      "metadata": {
        "id": "s1lCJGySYYTB"
      },
      "source": [
        "## Choosing subcluster heads within every cluster if there is atleast one node within half distance of farthest nodes.\n",
        "## Start\n",
        "## Step 2\n",
        "max_distance = 0\n",
        "fn1=0\n",
        "fn2=0\n",
        "lst_fn1=[]\n",
        "lst_fn2=[]\n",
        "for i in hl:\n",
        "  for j in a[i][j]:\n",
        "    for j1 in a[i][j]:\n",
        "      distance_bw_nodes_cluster = (sqrt((pow((dx[j]-dx[j1]),2))+(pow((dy[j]-dy[j1]),2))))\n",
        "      if max_distance < distance_bw_nodes_cluster:\n",
        "        max_distance = distance_bw_nodes_cluster\n",
        "        ## We have received the index of farthest nodes within a cluster\n",
        "        ## We have received farthest distance within cluster as well.\n",
        "        fn1=j\n",
        "        fn2=j1\n",
        "    distance_bw_nodes_FN1 = (sqrt((pow((dx[j]-dx[fn1]),2))+(pow((dy[j]-dy[fn1]),2))))\n",
        "    distance_bw_nodes_FN2 = (sqrt((pow((dx[j]-dx[fn2]),2))+(pow((dy[j]-dy[fn2]),2))))\n",
        "    if len(a[i][j]) > 4:max_distance/2\n",
        "      if distance_bw_nodes_FN1 ==  | distance_bw_nodes_FN1 < max_distance/2:\n",
        "        lst_fn1.append(j1)\n",
        "        sch1=np.rand(lst_fn1)\n",
        "        s1[j1] = s1[j1] -(((etx*2000) + (((efs*2000)*(pow(((distance_bw_nodes_FN1)),2))))))\n",
        "      if distance_bw_nodes_FN2 == max_distance/2 | distance_bw_nodes_FN1 < max_distance/2:\n",
        "        lst_fn2.append(j1)\n",
        "        sch2=np.rand(lst_fn2)\n",
        "        s1[j1] = s1[j1] -(((etx*2000) + (((efs*2000)*(pow(((distance_bw_nodes_FN2)),2))))))\n",
        "\n",
        "\n",
        "\n",
        "\n",
        "\n",
        "  \n",
        "\n",
        "\n",
        "\n",
        "  \n",
        "      \n",
        "      \n",
        "        \n",
        "  \n",
        "\n",
        "\n",
        "\n",
        "\n"
      ],
      "execution_count": null,
      "outputs": []
    },
    {
      "cell_type": "markdown",
      "metadata": {
        "id": "D5ulayxfa8D0"
      },
      "source": [
        "300, 300 dimension of field\n",
        "150, 150 base station different colour\n"
      ]
    }
  ]
}